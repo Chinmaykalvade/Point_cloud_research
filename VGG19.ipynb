{
  "nbformat": 4,
  "nbformat_minor": 0,
  "metadata": {
    "colab": {
      "name": "VGG19.ipynb",
      "provenance": [],
      "collapsed_sections": []
    },
    "kernelspec": {
      "name": "python3",
      "display_name": "Python 3"
    },
    "accelerator": "GPU"
  },
  "cells": [
    {
      "cell_type": "code",
      "metadata": {
        "id": "fqq3eJ93VavJ",
        "colab_type": "code",
        "outputId": "1a4d57ae-04f8-4c18-dc8f-c3e77509422b",
        "colab": {
          "base_uri": "https://localhost:8080/",
          "height": 129
        }
      },
      "source": [
        "from google.colab import drive\n",
        "\n",
        "drive.mount('/content/gdrive',force_remount=True)\n",
        "root_path = 'gdrive/My Drive/data1/'\n"
      ],
      "execution_count": 0,
      "outputs": [
        {
          "output_type": "stream",
          "text": [
            "Go to this URL in a browser: https://accounts.google.com/o/oauth2/auth?client_id=947318989803-6bn6qk8qdgf4n4g3pfee6491hc0brc4i.apps.googleusercontent.com&redirect_uri=urn%3Aietf%3Awg%3Aoauth%3A2.0%3Aoob&scope=email%20https%3A%2F%2Fwww.googleapis.com%2Fauth%2Fdocs.test%20https%3A%2F%2Fwww.googleapis.com%2Fauth%2Fdrive%20https%3A%2F%2Fwww.googleapis.com%2Fauth%2Fdrive.photos.readonly%20https%3A%2F%2Fwww.googleapis.com%2Fauth%2Fpeopleapi.readonly&response_type=code\n",
            "\n",
            "Enter your authorization code:\n",
            "··········\n",
            "Mounted at /content/gdrive\n"
          ],
          "name": "stdout"
        }
      ]
    },
    {
      "cell_type": "code",
      "metadata": {
        "id": "4_yKOdXNXndK",
        "colab_type": "code",
        "colab": {}
      },
      "source": [
        "import numpy as np\n",
        "import scipy.io\n",
        "import pandas as pd\n",
        "from sklearn.preprocessing import StandardScaler \n"
      ],
      "execution_count": 0,
      "outputs": []
    },
    {
      "cell_type": "code",
      "metadata": {
        "id": "htzjS3Y-u3Zu",
        "colab_type": "code",
        "colab": {}
      },
      "source": [
        "\n",
        "Z1=[]\n",
        "P1=[]\n",
        "\n",
        "for q in range(100,161):\n",
        "  filname = root_path + str(q) + \".mat\"\n",
        "  #import\n",
        "  mat = scipy.io.loadmat(filname)['Ftr']\n",
        "  L1=list(mat)\n",
        "\n",
        "  # LRFs\n",
        "  for i in range(0,500):\n",
        "    Z=[]\n",
        "    for j in range(0,2):\n",
        "      Z.append(L1[0][0][i][0][j])\n",
        "    K=np.ndarray.tolist(np.asarray(Z))\n",
        "    Z1.append(K)\n",
        "  # print(Z1)\n",
        "\n",
        "  # Neighbours\n",
        "  for i in range(0,500):\n",
        "    Z=np.asarray(L1[0][1][i][0])\n",
        "    K=np.ndarray.tolist(Z)\n",
        "    P1.append(K)\n",
        "  # print(P1)\n",
        "\n",
        "  \n",
        "  \n",
        "    \n",
        "  "
      ],
      "execution_count": 0,
      "outputs": []
    },
    {
      "cell_type": "code",
      "metadata": {
        "id": "fr3AnzGfsslr",
        "colab_type": "code",
        "outputId": "0f35389b-c9fd-4e70-aa38-f7ad47f983ff",
        "colab": {
          "base_uri": "https://localhost:8080/",
          "height": 54
        }
      },
      "source": [
        "P1=np.asarray(P1)\n",
        "Z1=np.asarray(Z1)\n",
        "print(len(Z1))\n",
        "print(len(P1))"
      ],
      "execution_count": 0,
      "outputs": [
        {
          "output_type": "stream",
          "text": [
            "30500\n",
            "30500\n"
          ],
          "name": "stdout"
        }
      ]
    },
    {
      "cell_type": "code",
      "metadata": {
        "id": "VL1ukb9cu0hv",
        "colab_type": "code",
        "colab": {}
      },
      "source": [
        "from sklearn.model_selection import train_test_split\n",
        "x_train,x_test,y_train,y_test=train_test_split(P1,Z1,test_size=0.3,random_state=0)"
      ],
      "execution_count": 0,
      "outputs": []
    },
    {
      "cell_type": "code",
      "metadata": {
        "id": "QaZ13WOC0zB6",
        "colab_type": "code",
        "outputId": "46d2e290-2642-467a-cb5f-cab9dc81418b",
        "colab": {
          "base_uri": "https://localhost:8080/",
          "height": 954
        }
      },
      "source": [
        "input_shape = (1499, 3)\n",
        "from keras.models import Sequential\n",
        "from keras.layers import Dense, Activation, Dropout\n",
        "from keras.layers import SeparableConv1D\n",
        "from keras.layers import AveragePooling1D\n",
        "# from keras.applications import VGG16, VGG19\n",
        "\n",
        "model = Sequential([\n",
        "    SeparableConv1D(64, (3), input_shape=input_shape, padding='same',\n",
        "           activation='relu'),\n",
        "    SeparableConv1D(64, (16), activation='relu', padding='same'),\n",
        "    AveragePooling1D(pool_size=(3)),\n",
        "    SeparableConv1D(128, (16), activation='relu', padding='same'),\n",
        "    SeparableConv1D(128, (32), activation='relu', padding='same',),\n",
        "    AveragePooling1D(pool_size=(3)),\n",
        "    SeparableConv1D(256, (32), activation='relu', padding='same',),\n",
        "    SeparableConv1D(256, (64), activation='relu', padding='same',),\n",
        "    SeparableConv1D(256, (64), activation='relu', padding='same',),\n",
        "    AveragePooling1D(pool_size=(4)),\n",
        "    SeparableConv1D(512, (64), activation='relu', padding='same',),\n",
        "    SeparableConv1D(512, (128), activation='relu', padding='same',),\n",
        "    SeparableConv1D(512, (128), activation='relu', padding='same',),\n",
        "    AveragePooling1D(pool_size=(4)),\n",
        "    SeparableConv1D(512, (128), activation='relu', padding='same',),\n",
        "    SeparableConv1D(512, (256), activation='relu', padding='same',),\n",
        "    SeparableConv1D(512, (256), activation='relu', padding='same',),\n",
        "    AveragePooling1D(pool_size=(4)),\n",
        "    SeparableConv1D(512, (512), activation='relu', padding='same',),\n",
        "    SeparableConv1D(512, (1024), activation='relu', padding='same',),\n",
        "    SeparableConv1D(512, (1024), activation='relu', padding='same',),\n",
        "#     Dense(360, activation='relu')(model)\n",
        "    Dense(3, activation='linear')\n",
        "])\n",
        "\n",
        "model.summary()"
      ],
      "execution_count": 0,
      "outputs": [
        {
          "output_type": "stream",
          "text": [
            "_________________________________________________________________\n",
            "Layer (type)                 Output Shape              Param #   \n",
            "=================================================================\n",
            "separable_conv1d_75 (Separab (None, 1499, 64)          265       \n",
            "_________________________________________________________________\n",
            "separable_conv1d_76 (Separab (None, 1499, 64)          5184      \n",
            "_________________________________________________________________\n",
            "average_pooling1d_6 (Average (None, 499, 64)           0         \n",
            "_________________________________________________________________\n",
            "separable_conv1d_77 (Separab (None, 499, 128)          9344      \n",
            "_________________________________________________________________\n",
            "separable_conv1d_78 (Separab (None, 499, 128)          20608     \n",
            "_________________________________________________________________\n",
            "average_pooling1d_7 (Average (None, 166, 128)          0         \n",
            "_________________________________________________________________\n",
            "separable_conv1d_79 (Separab (None, 166, 256)          37120     \n",
            "_________________________________________________________________\n",
            "separable_conv1d_80 (Separab (None, 166, 256)          82176     \n",
            "_________________________________________________________________\n",
            "separable_conv1d_81 (Separab (None, 166, 256)          82176     \n",
            "_________________________________________________________________\n",
            "average_pooling1d_8 (Average (None, 41, 256)           0         \n",
            "_________________________________________________________________\n",
            "separable_conv1d_82 (Separab (None, 41, 512)           147968    \n",
            "_________________________________________________________________\n",
            "separable_conv1d_83 (Separab (None, 41, 512)           328192    \n",
            "_________________________________________________________________\n",
            "separable_conv1d_84 (Separab (None, 41, 512)           328192    \n",
            "_________________________________________________________________\n",
            "average_pooling1d_9 (Average (None, 10, 512)           0         \n",
            "_________________________________________________________________\n",
            "separable_conv1d_85 (Separab (None, 10, 512)           328192    \n",
            "_________________________________________________________________\n",
            "separable_conv1d_86 (Separab (None, 10, 512)           393728    \n",
            "_________________________________________________________________\n",
            "separable_conv1d_87 (Separab (None, 10, 512)           393728    \n",
            "_________________________________________________________________\n",
            "average_pooling1d_10 (Averag (None, 2, 512)            0         \n",
            "_________________________________________________________________\n",
            "separable_conv1d_88 (Separab (None, 2, 512)            524800    \n",
            "_________________________________________________________________\n",
            "separable_conv1d_89 (Separab (None, 2, 512)            786944    \n",
            "_________________________________________________________________\n",
            "separable_conv1d_90 (Separab (None, 2, 512)            786944    \n",
            "_________________________________________________________________\n",
            "dense_7 (Dense)              (None, 2, 3)              1539      \n",
            "=================================================================\n",
            "Total params: 4,257,100\n",
            "Trainable params: 4,257,100\n",
            "Non-trainable params: 0\n",
            "_________________________________________________________________\n"
          ],
          "name": "stdout"
        }
      ]
    },
    {
      "cell_type": "code",
      "metadata": {
        "id": "N729VbtEQCFM",
        "colab_type": "code",
        "outputId": "f2109cc0-8fbf-4bc4-cb43-ae258d7a4df7",
        "colab": {
          "base_uri": "https://localhost:8080/",
          "height": 403
        }
      },
      "source": [
        "model.compile(loss='cosine_proximity', optimizer='adam',metrics=['accuracy'])\n",
        "# es = EarlyStopping(monitor='val_loss', mode='min', verbose=1)\n",
        "history = model.fit(x_train, y_train,batch_size=64,epochs=50,verbose=1,validation_data=(x_test, y_test))\n",
        "score = model.evaluate(x_train, y_train, verbose=0)\n",
        "trainerr = model.evaluate(x_test, y_test, verbose=0)\n",
        "print('Train loss:', score[0])\n",
        "print('Train accuracy:', score[1])\n",
        "print('Test loss:',trainerr[0])\n",
        "print('Test accuracy:',trainerr[1])\n"
      ],
      "execution_count": 0,
      "outputs": [
        {
          "output_type": "stream",
          "text": [
            "Train on 21350 samples, validate on 9150 samples\n",
            "Epoch 1/50\n",
            "21350/21350 [==============================] - 39s 2ms/step - loss: -0.0897 - acc: 0.4332 - val_loss: -0.1004 - val_acc: 0.4383\n",
            "Epoch 2/50\n",
            "21350/21350 [==============================] - 36s 2ms/step - loss: -0.1003 - acc: 0.4412 - val_loss: -0.1007 - val_acc: 0.4383\n",
            "Epoch 3/50\n",
            "21350/21350 [==============================] - 36s 2ms/step - loss: -0.1003 - acc: 0.4412 - val_loss: -0.0999 - val_acc: 0.4383\n",
            "Epoch 4/50\n",
            "21350/21350 [==============================] - 36s 2ms/step - loss: -0.1008 - acc: 0.4412 - val_loss: -0.0988 - val_acc: 0.4383\n",
            "Epoch 5/50\n",
            "21350/21350 [==============================] - 36s 2ms/step - loss: -0.1007 - acc: 0.4412 - val_loss: -0.0996 - val_acc: 0.4383\n",
            "Epoch 6/50\n",
            "21350/21350 [==============================] - 36s 2ms/step - loss: -0.1008 - acc: 0.4412 - val_loss: -0.1008 - val_acc: 0.4383\n",
            "Epoch 7/50\n",
            "21350/21350 [==============================] - 36s 2ms/step - loss: -0.1009 - acc: 0.4412 - val_loss: -0.1004 - val_acc: 0.4383\n",
            "Epoch 8/50\n",
            "21350/21350 [==============================] - 36s 2ms/step - loss: -0.1007 - acc: 0.4412 - val_loss: -0.1007 - val_acc: 0.4383\n",
            "Epoch 9/50\n",
            "21350/21350 [==============================] - 36s 2ms/step - loss: -0.1008 - acc: 0.4412 - val_loss: -0.1006 - val_acc: 0.4383\n",
            "Epoch 10/50\n",
            " 2880/21350 [===>..........................] - ETA: 28s - loss: -0.0962 - acc: 0.4339"
          ],
          "name": "stdout"
        }
      ]
    },
    {
      "cell_type": "code",
      "metadata": {
        "id": "PRdXGY01QM4b",
        "colab_type": "code",
        "colab": {}
      },
      "source": [
        "import matplotlib.pyplot as plt\n",
        "plt.plot(history.history['acc'])\n",
        "plt.plot(history.history['val_acc'])\n",
        "plt.title('Model accuracy')\n",
        "plt.ylabel('Accuracy')\n",
        "plt.xlabel('Epoch') \n",
        "plt.legend(['Train', 'Test'], loc='upper left')\n",
        "plt.show()\n",
        "\n",
        "\n",
        "plt.plot(history.history['loss'])\n",
        "plt.plot(history.history['val_loss'])\n",
        "plt.title('Model loss')\n",
        "plt.ylabel('losss')\n",
        "plt.xlabel('Epoch') \n",
        "plt.legend(['Train', 'Test'], loc='upper right')\n",
        "plt.show()\n",
        "\n"
      ],
      "execution_count": 0,
      "outputs": []
    },
    {
      "cell_type": "code",
      "metadata": {
        "id": "cVxkekkqLWV4",
        "colab_type": "code",
        "colab": {}
      },
      "source": [
        "\n",
        "from mpl_toolkits.mplot3d import Axes3D\n",
        "G=(model.predict(P5))\n",
        "#print(G)\n",
        "p0= G[0][0]\n",
        "p1= G[0][1]\n",
        "p2= G[0][2]\n",
        "print(p0)\n",
        "x,y,z= P5.T\n",
        "U,V,W= zip(p0,p1,p2)\n",
        "X,Y,Z= zip(-p0,-p1,-p2)\n",
        "fig = plt.figure()\n",
        "ax = fig.add_subplot(111, projection='3d')\n",
        "ax.scatter(x,y,z)\n",
        "ax.quiver(X,Y,Z,U,V,W,arrow_length_ratio=0.01)\n",
        "plt.show()\n",
        "\n"
      ],
      "execution_count": 0,
      "outputs": []
    }
  ]
}