{
  "nbformat": 4,
  "nbformat_minor": 0,
  "metadata": {
    "colab": {
      "name": "Multi Layered Perceptrons.ipynb",
      "version": "0.3.2",
      "provenance": [],
      "collapsed_sections": []
    },
    "kernelspec": {
      "name": "python3",
      "display_name": "Python 3"
    }
  },
  "cells": [
    {
      "cell_type": "code",
      "metadata": {
        "id": "fqq3eJ93VavJ",
        "colab_type": "code",
        "colab": {}
      },
      "source": [
        "from google.colab import drive\n",
        "\n",
        "drive.mount('/content/gdrive',force_remount=True)\n",
        "root_path = 'gdrive/My Drive/data/'\n"
      ],
      "execution_count": 0,
      "outputs": []
    },
    {
      "cell_type": "code",
      "metadata": {
        "id": "4_yKOdXNXndK",
        "colab_type": "code",
        "colab": {}
      },
      "source": [
        "import numpy as np\n",
        "import scipy.io\n",
        "import pandas as pd\n",
        "from sklearn.preprocessing import StandardScaler \n"
      ],
      "execution_count": 0,
      "outputs": []
    },
    {
      "cell_type": "code",
      "metadata": {
        "id": "htzjS3Y-u3Zu",
        "colab_type": "code",
        "colab": {}
      },
      "source": [
        "\n",
        "Z1=[]\n",
        "P1=[]\n",
        "\n",
        "for q in range(1,21):\n",
        "  filname = root_path + str(q) + \".mat\"\n",
        "  #import\n",
        "  mat = scipy.io.loadmat(filname)['Ftr']\n",
        "  L1=list(mat)\n",
        "\n",
        "  # LRFs\n",
        "  for i in range(0,500):\n",
        "    Z=np.asarray(L1[0][0][i][0])\n",
        "    K=np.ndarray.tolist(Z)\n",
        "    Z1.append(K)\n",
        "  # print(Z1)\n",
        "\n",
        "  # Neighbours\n",
        "  for i in range(0,500):\n",
        "    Z=np.asarray(L1[0][1][i][0])\n",
        "    K=np.ndarray.tolist(Z)\n",
        "    P1.append(K)\n",
        "  # print(P1)\n",
        "\n",
        "  \n",
        "  \n",
        "    \n",
        "  "
      ],
      "execution_count": 0,
      "outputs": []
    },
    {
      "cell_type": "code",
      "metadata": {
        "id": "fr3AnzGfsslr",
        "colab_type": "code",
        "colab": {}
      },
      "source": [
        "print(len(Z1))\n",
        "print(len(P1))\n",
        "\n",
        "P2=np.asarray(P1)\n",
        "Z2=np.asarray(Z1)\n",
        "\n",
        "print(P2)\n",
        "\n"
      ],
      "execution_count": 0,
      "outputs": []
    },
    {
      "cell_type": "code",
      "metadata": {
        "id": "VL1ukb9cu0hv",
        "colab_type": "code",
        "colab": {}
      },
      "source": [
        "from sklearn.model_selection import train_test_split\n",
        "\n",
        "x_train,x_test,y_train,y_test=train_test_split(P2,Z2,test_size=0.5,random_state=0)\n",
        "\n",
        "x_train = x_train.astype('float32')\n",
        "y_train = y_train.astype('float32')"
      ],
      "execution_count": 0,
      "outputs": []
    },
    {
      "cell_type": "code",
      "metadata": {
        "id": "QaZ13WOC0zB6",
        "colab_type": "code",
        "colab": {}
      },
      "source": [
        "model_m = Sequential()\n",
        "# Remark: since coreml cannot accept vector shapes of complex shape like\n",
        "# [80,3] this workaround is used in order to reshape the vector internally\n",
        "# prior feeding it into the network\n",
        "model_m.add(Reshape((TIME_PERIODS, 3), input_shape=(input_shape,)))\n",
        "model_m.add(Dense(100, activation='relu'))\n",
        "model_m.add(Dense(100, activation='relu'))\n",
        "model_m.add(Dense(100, activation='relu'))\n",
        "model_m.add(Flatten())\n",
        "model_m.add(Dense(num_classes, activation='softmax'))\n",
        "print(model_m.summary())"
      ],
      "execution_count": 0,
      "outputs": []
    },
    {
      "cell_type": "code",
      "metadata": {
        "id": "N729VbtEQCFM",
        "colab_type": "code",
        "colab": {}
      },
      "source": [
        "model_m.compile(loss='mean_squared_error', optimizer='adam',metrics=['accuracy'])\n",
        "model_m.summary()\n",
        "# es = EarlyStopping(monitor='val_loss', mode='min', verbose=1)\n",
        "history = model_m.fit(x_train, y_train,batch_size=128,epochs=50,verbose=1,validation_data=(x_test, y_test))\n",
        "score = model_m.evaluate(x_train, y_train, verbose=0)\n",
        "trainerr = model_m.evaluate(x_test, y_test, verbose=0)\n",
        "print('Train loss:', score[0])\n",
        "print('Train accuracy:', score[1])\n",
        "print('Test loss:',trainerr[0])\n",
        "print('Test accuracy:',trainerr[1])\n"
      ],
      "execution_count": 0,
      "outputs": []
    },
    {
      "cell_type": "code",
      "metadata": {
        "id": "PRdXGY01QM4b",
        "colab_type": "code",
        "colab": {}
      },
      "source": [
        "import matplotlib.pyplot as plt\n",
        "plt.plot(history.history['acc'])\n",
        "plt.plot(history.history['val_acc'])\n",
        "plt.title('Model accuracy')\n",
        "plt.ylabel('Accuracy')\n",
        "plt.xlabel('Epoch') \n",
        "plt.legend(['Train', 'Test'], loc='upper left')\n",
        "plt.show()\n",
        "\n",
        "\n",
        "plt.plot(history.history['loss'])\n",
        "plt.plot(history.history['val_loss'])\n",
        "plt.title('Model loss')\n",
        "plt.ylabel('losss')\n",
        "plt.xlabel('Epoch') \n",
        "plt.legend(['Train', 'Test'], loc='upper right')\n",
        "plt.show()\n",
        "\n"
      ],
      "execution_count": 0,
      "outputs": []
    },
    {
      "cell_type": "code",
      "metadata": {
        "id": "cVxkekkqLWV4",
        "colab_type": "code",
        "colab": {}
      },
      "source": [
        "\n",
        "from mpl_toolkits.mplot3d import Axes3D\n",
        "G=(model.predict(P5))\n",
        "#print(G)\n",
        "p0= G[0][0]\n",
        "p1= G[0][1]\n",
        "p2= G[0][2]\n",
        "print(p0)\n",
        "x,y,z= P5.T\n",
        "U,V,W= zip(p0,p1,p2)\n",
        "X,Y,Z= zip(-p0,-p1,-p2)\n",
        "fig = plt.figure()\n",
        "ax = fig.add_subplot(111, projection='3d')\n",
        "ax.scatter(x,y,z)\n",
        "ax.quiver(X,Y,Z,U,V,W,arrow_length_ratio=0.01)\n",
        "plt.show()\n",
        "\n"
      ],
      "execution_count": 0,
      "outputs": []
    }
  ]
}